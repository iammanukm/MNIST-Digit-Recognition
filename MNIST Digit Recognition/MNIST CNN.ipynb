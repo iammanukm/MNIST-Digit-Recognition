{
 "cells": [
  {
   "cell_type": "code",
   "execution_count": 4,
   "metadata": {},
   "outputs": [
    {
     "name": "stdout",
     "output_type": "stream",
     "text": [
      "Train on 60000 samples, validate on 10000 samples\n",
      "Epoch 1/10\n",
      "60000/60000 [==============================] - 31s 522us/step - loss: 0.3916 - acc: 0.8794 - val_loss: 0.0897 - val_acc: 0.9703\n",
      "Epoch 2/10\n",
      "60000/60000 [==============================] - 31s 520us/step - loss: 0.0944 - acc: 0.9705 - val_loss: 0.0524 - val_acc: 0.9825\n",
      "Epoch 3/10\n",
      "60000/60000 [==============================] - 30s 503us/step - loss: 0.0698 - acc: 0.9785 - val_loss: 0.0376 - val_acc: 0.9880\n",
      "Epoch 4/10\n",
      "60000/60000 [==============================] - 31s 521us/step - loss: 0.0542 - acc: 0.9834 - val_loss: 0.0349 - val_acc: 0.9886\n",
      "Epoch 5/10\n",
      "60000/60000 [==============================] - 31s 519us/step - loss: 0.0452 - acc: 0.9857 - val_loss: 0.0300 - val_acc: 0.9904\n",
      "Epoch 6/10\n",
      "60000/60000 [==============================] - 31s 523us/step - loss: 0.0400 - acc: 0.9865 - val_loss: 0.0263 - val_acc: 0.9916\n",
      "Epoch 7/10\n",
      "60000/60000 [==============================] - 31s 517us/step - loss: 0.0361 - acc: 0.9887 - val_loss: 0.0225 - val_acc: 0.9926\n",
      "Epoch 8/10\n",
      "60000/60000 [==============================] - 31s 510us/step - loss: 0.0330 - acc: 0.9893 - val_loss: 0.0244 - val_acc: 0.9907\n",
      "Epoch 9/10\n",
      "60000/60000 [==============================] - 31s 510us/step - loss: 0.0307 - acc: 0.9899 - val_loss: 0.0212 - val_acc: 0.9930\n",
      "Epoch 10/10\n",
      "60000/60000 [==============================] - 31s 513us/step - loss: 0.0278 - acc: 0.9912 - val_loss: 0.0246 - val_acc: 0.9919\n",
      "Large CNN Error: 0.81%\n"
     ]
    }
   ],
   "source": [
    "# Larger CNN for the MNIST Dataset\n",
    "from keras.datasets import mnist\n",
    "from keras.models import Sequential\n",
    "from keras.layers import Dense\n",
    "from keras.layers import Dropout\n",
    "from keras.layers import Flatten\n",
    "from keras.layers.convolutional import Conv2D\n",
    "from keras.layers.convolutional import MaxPooling2D\n",
    "from keras.utils import np_utils\n",
    "# load data\n",
    "(X_train, y_train), (X_test, y_test) = mnist.load_data()\n",
    "# reshape to be [samples][width][height][channels]\n",
    "X_train = X_train.reshape((X_train.shape[0], 28, 28, 1)).astype('float32')\n",
    "X_test = X_test.reshape((X_test.shape[0], 28, 28, 1)).astype('float32')\n",
    "# normalize inputs from 0-255 to 0-1\n",
    "X_train = X_train / 255\n",
    "X_test = X_test / 255\n",
    "# one hot encode outputs\n",
    "y_train = np_utils.to_categorical(y_train)\n",
    "y_test = np_utils.to_categorical(y_test)\n",
    "num_classes = y_test.shape[1]\n",
    "# define the larger model\n",
    "def cnn_model():\n",
    "\t# create model\n",
    "\tmodel = Sequential()\n",
    "\tmodel.add(Conv2D(30, (5, 5), input_shape=(28, 28, 1), activation='relu'))\n",
    "\tmodel.add(MaxPooling2D())\n",
    "\tmodel.add(Conv2D(15, (3, 3), activation='relu'))\n",
    "\tmodel.add(MaxPooling2D())\n",
    "\tmodel.add(Dropout(0.2))\n",
    "\tmodel.add(Flatten())\n",
    "\tmodel.add(Dense(128, activation='relu'))\n",
    "\tmodel.add(Dense(50, activation='relu'))\n",
    "\tmodel.add(Dense(num_classes, activation='softmax'))\n",
    "\t# Compile model\n",
    "\tmodel.compile(loss='categorical_crossentropy', optimizer='adam', metrics=['accuracy'])\n",
    "\treturn model\n",
    "# build the model\n",
    "model = cnn_model()\n",
    "# Fit the model\n",
    "model.fit(X_train, y_train, validation_data=(X_test, y_test), epochs=10, batch_size=200)\n",
    "# Final evaluation of the model\n",
    "scores = model.evaluate(X_test, y_test, verbose=0)\n",
    "print(\"CNN Error: %.2f%%\" % (100-scores[1]*100))"
   ]
  },
  {
   "cell_type": "code",
   "execution_count": null,
   "metadata": {},
   "outputs": [],
   "source": []
  }
 ],
 "metadata": {
  "kernelspec": {
   "display_name": "Python",
   "language": "python",
   "name": "conda-env-python-py"
  },
  "language_info": {
   "codemirror_mode": {
    "name": "ipython",
    "version": 3
   },
   "file_extension": ".py",
   "mimetype": "text/x-python",
   "name": "python",
   "nbconvert_exporter": "python",
   "pygments_lexer": "ipython3",
   "version": "3.6.7"
  }
 },
 "nbformat": 4,
 "nbformat_minor": 4
}
