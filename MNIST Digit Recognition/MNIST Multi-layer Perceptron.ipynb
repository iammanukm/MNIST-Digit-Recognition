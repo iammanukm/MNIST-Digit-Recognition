{
 "cells": [
  {
   "cell_type": "code",
   "execution_count": 1,
   "metadata": {},
   "outputs": [
    {
     "name": "stderr",
     "output_type": "stream",
     "text": [
      "Using TensorFlow backend.\n"
     ]
    },
    {
     "name": "stdout",
     "output_type": "stream",
     "text": [
      "Downloading data from https://s3.amazonaws.com/img-datasets/mnist.npz\n",
      "11493376/11490434 [==============================] - 1s 0us/step\n",
      "Train on 60000 samples, validate on 10000 samples\n",
      "Epoch 1/10\n",
      " - 5s - loss: 0.2794 - acc: 0.9206 - val_loss: 0.1400 - val_acc: 0.9599\n",
      "Epoch 2/10\n",
      " - 5s - loss: 0.1113 - acc: 0.9687 - val_loss: 0.1021 - val_acc: 0.9706\n",
      "Epoch 3/10\n",
      " - 5s - loss: 0.0723 - acc: 0.9788 - val_loss: 0.0742 - val_acc: 0.9773\n",
      "Epoch 4/10\n",
      " - 5s - loss: 0.0495 - acc: 0.9864 - val_loss: 0.0714 - val_acc: 0.9775\n",
      "Epoch 5/10\n",
      " - 5s - loss: 0.0365 - acc: 0.9897 - val_loss: 0.0677 - val_acc: 0.9790\n",
      "Epoch 6/10\n",
      " - 5s - loss: 0.0283 - acc: 0.9919 - val_loss: 0.0630 - val_acc: 0.9803\n",
      "Epoch 7/10\n",
      " - 5s - loss: 0.0197 - acc: 0.9950 - val_loss: 0.0612 - val_acc: 0.9812\n",
      "Epoch 8/10\n",
      " - 5s - loss: 0.0139 - acc: 0.9969 - val_loss: 0.0602 - val_acc: 0.9822\n",
      "Epoch 9/10\n",
      " - 5s - loss: 0.0105 - acc: 0.9978 - val_loss: 0.0556 - val_acc: 0.9841\n",
      "Epoch 10/10\n",
      " - 5s - loss: 0.0081 - acc: 0.9985 - val_loss: 0.0583 - val_acc: 0.9828\n",
      "Baseline Error: 1.72%\n"
     ]
    }
   ],
   "source": [
    "from keras.datasets import mnist\n",
    "from keras.models import Sequential\n",
    "from keras.layers import Dense\n",
    "from keras.utils import np_utils\n",
    "# load data\n",
    "(X_train, y_train), (X_test, y_test) = mnist.load_data()\n",
    "# flatten 28*28 images to a 784 vector for each image\n",
    "num_pixels = X_train.shape[1] * X_train.shape[2]\n",
    "X_train = X_train.reshape((X_train.shape[0], num_pixels)).astype('float32')\n",
    "X_test = X_test.reshape((X_test.shape[0], num_pixels)).astype('float32')\n",
    "# normalize inputs from 0-255 to 0-1\n",
    "X_train = X_train / 255\n",
    "X_test = X_test / 255\n",
    "# one hot encode outputs\n",
    "y_train = np_utils.to_categorical(y_train)\n",
    "y_test = np_utils.to_categorical(y_test)\n",
    "num_classes = y_test.shape[1]\n",
    "# define baseline model\n",
    "def baseline_model():\n",
    "\t# create model\n",
    "\tmodel = Sequential()\n",
    "\tmodel.add(Dense(num_pixels, input_dim=num_pixels, kernel_initializer='normal', activation='relu'))\n",
    "\tmodel.add(Dense(num_classes, kernel_initializer='normal', activation='softmax'))\n",
    "\t# Compile model\n",
    "\tmodel.compile(loss='categorical_crossentropy', optimizer='adam', metrics=['accuracy'])\n",
    "\treturn model\n",
    "# build the model\n",
    "model = baseline_model()\n",
    "# Fit the model\n",
    "model.fit(X_train, y_train, validation_data=(X_test, y_test), epochs=10, batch_size=200, verbose=2)\n",
    "# Final evaluation of the model\n",
    "scores = model.evaluate(X_test, y_test, verbose=0)\n",
    "print(\"Baseline Error: %.2f%%\" % (100-scores[1]*100))"
   ]
  },
  {
   "cell_type": "code",
   "execution_count": null,
   "metadata": {},
   "outputs": [],
   "source": []
  }
 ],
 "metadata": {
  "kernelspec": {
   "display_name": "Python",
   "language": "python",
   "name": "conda-env-python-py"
  },
  "language_info": {
   "codemirror_mode": {
    "name": "ipython",
    "version": 3
   },
   "file_extension": ".py",
   "mimetype": "text/x-python",
   "name": "python",
   "nbconvert_exporter": "python",
   "pygments_lexer": "ipython3",
   "version": "3.6.7"
  }
 },
 "nbformat": 4,
 "nbformat_minor": 4
}
